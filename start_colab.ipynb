# start_colab.ipynb

# 👉 Instalar dependências
!pip install -r requerimentos.txt

# 👉 Executar o código
!python3 main.py
